{
 "cells": [
  {
   "cell_type": "markdown",
   "id": "10c89c88",
   "metadata": {},
   "source": [
    "# Next Steps\n",
    "\n",
    "- ✅ Parsed ~3,500 documents into `contracts_dataset.contracts`.  \n",
    "- 📌 Goal: \n",
    "  - Use `AI.GENERATE` and `AI.GENERATE_TABLE` on the table.  \n",
    "  - Create vector embeddings for `contract_summary`. `ML.GENERATE_EMBEDDING`\n",
    "\n",
    "- 🔧 Requirement:  \n",
    "  To leverage these AI functions on the gcs, I need an `ObjectRef`.  \n",
    "  Therefore, I’ll be transforming `file_path` into a objectrefe (`ref`), and have it in a view.\n"
   ]
  },
  {
   "cell_type": "code",
   "execution_count": 1,
   "id": "511f6763",
   "metadata": {},
   "outputs": [],
   "source": [
    "import os\n",
    "import json\n",
    "import pandas as pd\n",
    "from google.cloud import bigquery\n",
    "from google.cloud.exceptions import NotFound\n",
    "import time"
   ]
  },
  {
   "cell_type": "code",
   "execution_count": 2,
   "id": "40077f41",
   "metadata": {},
   "outputs": [],
   "source": [
    "# Configuration\n",
    "PROJECT_ID = \"cool-automata-386721\"  # Your Google Cloud Project ID\n",
    "GCS_BUCKET_NAME = \"contracts-mcc\"  # Your GCS bucket with contract documents\n",
    "DATASET_NAME = \"contracts_dataset\"\n",
    "\n",
    "# Initialize BigQuery client\n",
    "client = bigquery.Client(project=PROJECT_ID)\n"
   ]
  },
  {
   "cell_type": "markdown",
   "id": "fa89b074",
   "metadata": {},
   "source": [
    "### Create BigQuery Cloud resource connection and service account permissions"
   ]
  },
  {
   "cell_type": "code",
   "execution_count": 3,
   "id": "2911870f",
   "metadata": {},
   "outputs": [
    {
     "name": "stdout",
     "output_type": "stream",
     "text": [
      "BigQuery error in mk operation: Already Exists: Connection\n",
      "projects/625945884811/locations/us/connections/contracts_ai_connection\n"
     ]
    }
   ],
   "source": [
    "!bq mk --connection --location=us \\\n",
    "    --connection_type=CLOUD_RESOURCE contracts_ai_connection"
   ]
  },
  {
   "cell_type": "code",
   "execution_count": 25,
   "id": "fa5e1d39",
   "metadata": {},
   "outputs": [
    {
     "name": "stdout",
     "output_type": "stream",
     "text": [
      "bqcx-625945884811-s8gk@gcp-sa-bigquery-condel.iam.gserviceaccount.com\n"
     ]
    }
   ],
   "source": [
    "SERVICE_ACCT = !bq show --format=prettyjson --connection us.contracts_ai_connection | grep \"serviceAccountId\" | cut -d '\"' -f 4\n",
    "SERVICE_ACCT_EMAIL = SERVICE_ACCT[-1]\n",
    "print(SERVICE_ACCT_EMAIL)"
   ]
  },
  {
   "cell_type": "code",
   "execution_count": 6,
   "id": "213dbaee",
   "metadata": {},
   "outputs": [
    {
     "name": "stdout",
     "output_type": "stream",
     "text": [
      "Updated IAM policy for project [cool-automata-386721].\n",
      "Updated IAM policy for project [cool-automata-386721].\n"
     ]
    }
   ],
   "source": [
    "import time\n",
    "\n",
    "!gcloud projects add-iam-policy-binding --format=none $PROJECT_ID --member=serviceAccount:$SERVICE_ACCT_EMAIL --role='roles/storage.objectViewer'\n",
    "!gcloud projects add-iam-policy-binding --format=none $PROJECT_ID --member=serviceAccount:$SERVICE_ACCT_EMAIL --role='roles/aiplatform.user'\n",
    "\n",
    "# Wait ~60 seconds, to give IAM updates time to propagate. Otherwise, subsequent cells may fail.\n",
    "time.sleep(60)"
   ]
  },
  {
   "cell_type": "code",
   "execution_count": 6,
   "id": "fdf39824",
   "metadata": {},
   "outputs": [
    {
     "name": "stderr",
     "output_type": "stream",
     "text": [
      "/Users/Meher.Gajula/Desktop/Work/playground/BQ Comp 2025/.venv/lib/python3.13/site-packages/google/cloud/bigquery/__init__.py:237: FutureWarning: %load_ext google.cloud.bigquery is deprecated. Install bigquery-magics package and use `%load_ext bigquery_magics`, instead.\n",
      "  warnings.warn(\n"
     ]
    }
   ],
   "source": [
    "%load_ext google.cloud.bigquery"
   ]
  },
  {
   "cell_type": "markdown",
   "id": "af1f1f79",
   "metadata": {},
   "source": [
    "## Step 1: Add objectRef into a view.\n",
    "\n",
    "I have this table contracts with all the necessary fields, now I will focus on a few fields that I am interested in and view also add a `objectRef` to make my data useful. \n"
   ]
  },
  {
   "cell_type": "code",
   "execution_count": 9,
   "id": "d049e188",
   "metadata": {},
   "outputs": [
    {
     "data": {
      "application/vnd.jupyter.widget-view+json": {
       "model_id": "9b9758367f134bbf9e61a6334b23e409",
       "version_major": 2,
       "version_minor": 0
      },
      "text/plain": [
       "Query is running:   0%|          |"
      ]
     },
     "metadata": {},
     "output_type": "display_data"
    },
    {
     "data": {
      "text/html": [
       "<div>\n",
       "<style scoped>\n",
       "    .dataframe tbody tr th:only-of-type {\n",
       "        vertical-align: middle;\n",
       "    }\n",
       "\n",
       "    .dataframe tbody tr th {\n",
       "        vertical-align: top;\n",
       "    }\n",
       "\n",
       "    .dataframe thead th {\n",
       "        text-align: right;\n",
       "    }\n",
       "</style>\n",
       "<table border=\"1\" class=\"dataframe\">\n",
       "  <thead>\n",
       "    <tr style=\"text-align: right;\">\n",
       "      <th></th>\n",
       "    </tr>\n",
       "  </thead>\n",
       "  <tbody>\n",
       "  </tbody>\n",
       "</table>\n",
       "</div>"
      ],
      "text/plain": [
       "Empty DataFrame\n",
       "Columns: []\n",
       "Index: []"
      ]
     },
     "execution_count": 9,
     "metadata": {},
     "output_type": "execute_result"
    }
   ],
   "source": [
    "%%bigquery --project {PROJECT_ID}\n",
    "\n",
    "CREATE OR REPLACE VIEW `contracts_dataset.v_contracts` AS\n",
    "SELECT\n",
    "  c.*,\n",
    "  OBJ.FETCH_METADATA(OBJ.MAKE_REF(c.file_path, 'us.contracts_ai_connection')) AS ref\n",
    "FROM `contracts_dataset.contracts` c;"
   ]
  },
  {
   "cell_type": "markdown",
   "id": "edf230cb",
   "metadata": {},
   "source": [
    "### Using AI.GENERATE_TABLE with objectRef"
   ]
  },
  {
   "cell_type": "code",
   "execution_count": null,
   "id": "779ea761",
   "metadata": {},
   "outputs": [
    {
     "data": {
      "application/vnd.jupyter.widget-view+json": {
       "model_id": "8bcd3b8c4159472ea8033f639c313c3e",
       "version_major": 2,
       "version_minor": 0
      },
      "text/plain": [
       "Query is running:   0%|          |"
      ]
     },
     "metadata": {},
     "output_type": "display_data"
    },
    {
     "data": {
      "application/vnd.jupyter.widget-view+json": {
       "model_id": "ae3708bc36b6458a8ed12b605f6f3516",
       "version_major": 2,
       "version_minor": 0
      },
      "text/plain": [
       "Downloading:   0%|          |"
      ]
     },
     "metadata": {},
     "output_type": "display_data"
    },
    {
     "data": {
      "text/html": [
       "<div>\n",
       "<style scoped>\n",
       "    .dataframe tbody tr th:only-of-type {\n",
       "        vertical-align: middle;\n",
       "    }\n",
       "\n",
       "    .dataframe tbody tr th {\n",
       "        vertical-align: top;\n",
       "    }\n",
       "\n",
       "    .dataframe thead th {\n",
       "        text-align: right;\n",
       "    }\n",
       "</style>\n",
       "<table border=\"1\" class=\"dataframe\">\n",
       "  <thead>\n",
       "    <tr style=\"text-align: right;\">\n",
       "      <th></th>\n",
       "      <th>company_name</th>\n",
       "      <th>state_of_incorp</th>\n",
       "      <th>contract_type</th>\n",
       "      <th>clauses</th>\n",
       "      <th>clause_explanation</th>\n",
       "      <th>file_path</th>\n",
       "    </tr>\n",
       "  </thead>\n",
       "  <tbody>\n",
       "    <tr>\n",
       "      <th>0</th>\n",
       "      <td>Waters Corporation</td>\n",
       "      <td>DE</td>\n",
       "      <td>Award Agreement</td>\n",
       "      <td>[Change of Control, Termination, Vesting, Requ...</td>\n",
       "      <td>This document is an exhibit of a Performance S...</td>\n",
       "      <td>gs://contracts-mcc/2020/Q1/1000697..0001193125...</td>\n",
       "    </tr>\n",
       "  </tbody>\n",
       "</table>\n",
       "</div>"
      ],
      "text/plain": [
       "         company_name state_of_incorp    contract_type  \\\n",
       "0  Waters Corporation              DE  Award Agreement   \n",
       "\n",
       "                                             clauses  \\\n",
       "0  [Change of Control, Termination, Vesting, Requ...   \n",
       "\n",
       "                                  clause_explanation  \\\n",
       "0  This document is an exhibit of a Performance S...   \n",
       "\n",
       "                                           file_path  \n",
       "0  gs://contracts-mcc/2020/Q1/1000697..0001193125...  "
      ]
     },
     "execution_count": 10,
     "metadata": {},
     "output_type": "execute_result"
    }
   ],
   "source": [
    "%%bigquery --project {PROJECT_ID}\n",
    "\n",
    "SELECT\n",
    "company_name,\n",
    "state_of_incorp,\n",
    "contract_type,\n",
    "clauses,\n",
    "clause_explanation,\n",
    "file_path,\n",
    "FROM AI.GENERATE_TABLE(\n",
    "  MODEL `contracts_dataset.gemini`,\n",
    "  (\n",
    "    SELECT (\n",
    "      'What is this?'\n",
    "      , ref\n",
    "    ) AS prompt,\n",
    "    company_name,\n",
    "    contract_type,\n",
    "    contract_summary,\n",
    "    state_of_incorp,\n",
    "    parties,\n",
    "    clauses,\n",
    "    file_path\n",
    "    FROM `contracts_dataset.v_contracts`\n",
    "    where company_name like 'Waters Corporation'\n",
    "  ),\n",
    "  STRUCT(\n",
    "     \"clause_explanation STRING\" AS output_schema\n",
    ")\n",
    ")"
   ]
  },
  {
   "cell_type": "markdown",
   "id": "219df64d",
   "metadata": {
    "vscode": {
     "languageId": "html"
    }
   },
   "source": [
    "### USING AI.GENERATE with objectRef"
   ]
  },
  {
   "cell_type": "code",
   "execution_count": 18,
   "id": "e45c692c",
   "metadata": {},
   "outputs": [
    {
     "data": {
      "application/vnd.jupyter.widget-view+json": {
       "model_id": "57d3177a4fc94ec0bc48a87eb9159ad4",
       "version_major": 2,
       "version_minor": 0
      },
      "text/plain": [
       "Query is running:   0%|          |"
      ]
     },
     "metadata": {},
     "output_type": "display_data"
    },
    {
     "data": {
      "application/vnd.jupyter.widget-view+json": {
       "model_id": "e8b00125a68a4b8ab6dc1d524ecce207",
       "version_major": 2,
       "version_minor": 0
      },
      "text/plain": [
       "Downloading:   0%|          |"
      ]
     },
     "metadata": {},
     "output_type": "display_data"
    },
    {
     "data": {
      "text/html": [
       "<div>\n",
       "<style scoped>\n",
       "    .dataframe tbody tr th:only-of-type {\n",
       "        vertical-align: middle;\n",
       "    }\n",
       "\n",
       "    .dataframe tbody tr th {\n",
       "        vertical-align: top;\n",
       "    }\n",
       "\n",
       "    .dataframe thead th {\n",
       "        text-align: right;\n",
       "    }\n",
       "</style>\n",
       "<table border=\"1\" class=\"dataframe\">\n",
       "  <thead>\n",
       "    <tr style=\"text-align: right;\">\n",
       "      <th></th>\n",
       "      <th>company_name</th>\n",
       "      <th>state_of_incorp</th>\n",
       "      <th>contract_type</th>\n",
       "      <th>clauses</th>\n",
       "      <th>file_path</th>\n",
       "      <th>clause_explanation</th>\n",
       "    </tr>\n",
       "  </thead>\n",
       "  <tbody>\n",
       "    <tr>\n",
       "      <th>0</th>\n",
       "      <td>Insperity, Inc.</td>\n",
       "      <td>None</td>\n",
       "      <td>Restricted Stock Unit Agreement</td>\n",
       "      <td>[Vesting, Change of Control, Termination, Forf...</td>\n",
       "      <td>gs://contracts-mcc/2020/Q1/1000753..0001000753...</td>\n",
       "      <td>Okay, let's break down this Restricted Stock U...</td>\n",
       "    </tr>\n",
       "    <tr>\n",
       "      <th>1</th>\n",
       "      <td>Insperity, Inc.</td>\n",
       "      <td>None</td>\n",
       "      <td>Restricted Stock Unit Agreement</td>\n",
       "      <td>[Change of Control, Forfeiture, Clawback, Gove...</td>\n",
       "      <td>gs://contracts-mcc/2020/Q1/1000753..0001000753...</td>\n",
       "      <td>Okay, let's break down this document, which is...</td>\n",
       "    </tr>\n",
       "    <tr>\n",
       "      <th>2</th>\n",
       "      <td>Insperity, Inc.</td>\n",
       "      <td>None</td>\n",
       "      <td>Restricted Stock Unit Agreement</td>\n",
       "      <td>[Vesting, Forfeiture, Change of Control, Termi...</td>\n",
       "      <td>gs://contracts-mcc/2020/Q1/1000753..0001000753...</td>\n",
       "      <td>Okay, let's break down this Restricted Stock U...</td>\n",
       "    </tr>\n",
       "  </tbody>\n",
       "</table>\n",
       "</div>"
      ],
      "text/plain": [
       "      company_name state_of_incorp                    contract_type  \\\n",
       "0  Insperity, Inc.            None  Restricted Stock Unit Agreement   \n",
       "1  Insperity, Inc.            None  Restricted Stock Unit Agreement   \n",
       "2  Insperity, Inc.            None  Restricted Stock Unit Agreement   \n",
       "\n",
       "                                             clauses  \\\n",
       "0  [Vesting, Change of Control, Termination, Forf...   \n",
       "1  [Change of Control, Forfeiture, Clawback, Gove...   \n",
       "2  [Vesting, Forfeiture, Change of Control, Termi...   \n",
       "\n",
       "                                           file_path  \\\n",
       "0  gs://contracts-mcc/2020/Q1/1000753..0001000753...   \n",
       "1  gs://contracts-mcc/2020/Q1/1000753..0001000753...   \n",
       "2  gs://contracts-mcc/2020/Q1/1000753..0001000753...   \n",
       "\n",
       "                                  clause_explanation  \n",
       "0  Okay, let's break down this Restricted Stock U...  \n",
       "1  Okay, let's break down this document, which is...  \n",
       "2  Okay, let's break down this Restricted Stock U...  "
      ]
     },
     "execution_count": 18,
     "metadata": {},
     "output_type": "execute_result"
    }
   ],
   "source": [
    "%%bigquery --project {PROJECT_ID}\n",
    "\n",
    "SELECT\n",
    "company_name,\n",
    "state_of_incorp,\n",
    "contract_type,\n",
    "clauses,\n",
    "file_path,\n",
    "AI.GENERATE(\n",
    "  (\n",
    "    'Explain the clause in detail',ref\n",
    "  ),\n",
    "  connection_id => 'us.contracts_ai_connection',\n",
    "  endpoint => 'gemini-2.0-flash'\n",
    ").result as clause_explanation\n",
    "FROM `contracts_dataset.v_contracts`\n",
    "where company_name like '%Insperity%'\n",
    "limit 3"
   ]
  },
  {
   "cell_type": "code",
   "execution_count": null,
   "id": "6e2610b4",
   "metadata": {},
   "outputs": [],
   "source": []
  },
  {
   "cell_type": "code",
   "execution_count": null,
   "id": "b1a061d7",
   "metadata": {},
   "outputs": [],
   "source": []
  },
  {
   "cell_type": "code",
   "execution_count": null,
   "id": "adf74bf7",
   "metadata": {},
   "outputs": [],
   "source": []
  },
  {
   "cell_type": "code",
   "execution_count": null,
   "id": "10efca4a",
   "metadata": {},
   "outputs": [],
   "source": []
  }
 ],
 "metadata": {
  "kernelspec": {
   "display_name": ".venv",
   "language": "python",
   "name": "python3"
  },
  "language_info": {
   "codemirror_mode": {
    "name": "ipython",
    "version": 3
   },
   "file_extension": ".py",
   "mimetype": "text/x-python",
   "name": "python",
   "nbconvert_exporter": "python",
   "pygments_lexer": "ipython3",
   "version": "3.13.2"
  }
 },
 "nbformat": 4,
 "nbformat_minor": 5
}
