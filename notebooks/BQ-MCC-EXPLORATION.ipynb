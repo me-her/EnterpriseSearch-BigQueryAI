{
 "cells": [
  {
   "cell_type": "markdown",
   "id": "10c89c88",
   "metadata": {},
   "source": [
    "# SEC Filings and Contracts Analysis with BigQuery ML/AI\n",
    "\n",
    "This notebook demonstrates my initial setup to try out BigQuery's AI/ML capabilities to transform unstructured SEC filings and contract documents into structured data using bigquery's AI.GENERATE and AI.GENERATE_TABLE\n",
    "\n",
    "## DATASET: \n",
    "\n",
    "<b>Public data</b> from [Material Contract Corpus - Stanford University](https://mcc.law.stanford.edu/download/contracts/) was used to create a working prototype with the AI/ML capabilities of BigQuery. \n",
    "- It is publicly available. \n",
    "- Contains over 1M files ranging from the year 2000 to 2023. \n",
    "- Due to it's scale and costs, I am using files from the year 2020 to 2023. (130k Documents) to showcase bigquery's AI capabilities. \n",
    "\n",
    "\n",
    "I have ingested these documents onto my BUCKET. \n",
    "\n",
    "## Goal\n",
    "\n",
    "My goal is to \n",
    "\n",
    "- reduce the time taken to find enterprise documents\n",
    "- be able to answer questions about data\n",
    "- To build the solution with bigquery\n",
    "\n",
    "Every organization has unstrctured data like txt/html/pdf files. I want to use AI to parse these into a semi-strucutred way, so I can be able to query them (there is a reason SQL is popular), instead of having to do RAG all the time. \n",
    "\n",
    "The problem with RAG is that I always get something, but it might not be relevant. And the LLM would have to take all the input in and come up with an answer. Instead we can reduce the context and make it more revelant if we go with a hybrid approach. \n",
    "\n",
    "By making a schema and parsing our data, and also by making an embedding of the summary generated. We can retrieve necessary documents. \n",
    "For speciliazed questions. We can use AI.GENERATE_BOOL and AI.GENERATE to do a sentiment analysis /filter things out. \n",
    "\n",
    "This way, we can solve the documents problems with very organization that has huge amounts of data. \n",
    "\n",
    "## Prerequisites\n",
    "1. Google Cloud Project with BigQuery and Vertex AI APIs enabled\n",
    "2. Contract documents uploaded to GCS bucket (`contracts-mcc`). This is PUBLIC DATA. [Material Contract Corpus - Stanford University](https://mcc.law.stanford.edu/download/contracts/)\n",
    "3. Proper authentication (gcloud auth login or service account)\n"
   ]
  },
  {
   "cell_type": "code",
   "execution_count": 1,
   "id": "754dd67f",
   "metadata": {},
   "outputs": [],
   "source": [
    "# Install required packages (run this once)\n",
    "# !uv pip install google-cloud-bigquery pandas db-dtypes"
   ]
  },
  {
   "cell_type": "code",
   "execution_count": 1,
   "id": "511f6763",
   "metadata": {},
   "outputs": [],
   "source": [
    "import os\n",
    "import json\n",
    "import pandas as pd\n",
    "from google.cloud import bigquery\n",
    "from google.cloud.exceptions import NotFound\n",
    "import time"
   ]
  },
  {
   "cell_type": "code",
   "execution_count": 2,
   "id": "40077f41",
   "metadata": {},
   "outputs": [],
   "source": [
    "# Configuration\n",
    "PROJECT_ID = \"cool-automata-386721\"  # Your Google Cloud Project ID\n",
    "GCS_BUCKET_NAME = \"contracts-mcc\"  # Your GCS bucket with contract documents\n",
    "DATASET_NAME = \"exploration\"\n",
    "\n",
    "# Initialize BigQuery client\n",
    "client = bigquery.Client(project=PROJECT_ID)\n"
   ]
  },
  {
   "cell_type": "markdown",
   "id": "fa89b074",
   "metadata": {},
   "source": [
    "### Create BigQuery Cloud resource connection and service account permissions"
   ]
  },
  {
   "cell_type": "code",
   "execution_count": 4,
   "id": "2911870f",
   "metadata": {},
   "outputs": [
    {
     "name": "stdout",
     "output_type": "stream",
     "text": [
      "BigQuery error in mk operation: Already Exists: Connection\n",
      "projects/625945884811/locations/us/connections/contracts_ai_connection\n"
     ]
    }
   ],
   "source": [
    "!bq mk --connection --location=us \\\n",
    "    --connection_type=CLOUD_RESOURCE contracts_ai_connection"
   ]
  },
  {
   "cell_type": "code",
   "execution_count": 25,
   "id": "fa5e1d39",
   "metadata": {},
   "outputs": [
    {
     "name": "stdout",
     "output_type": "stream",
     "text": [
      "bqcx-625945884811-s8gk@gcp-sa-bigquery-condel.iam.gserviceaccount.com\n"
     ]
    }
   ],
   "source": [
    "SERVICE_ACCT = !bq show --format=prettyjson --connection us.contracts_ai_connection | grep \"serviceAccountId\" | cut -d '\"' -f 4\n",
    "SERVICE_ACCT_EMAIL = SERVICE_ACCT[-1]\n",
    "print(SERVICE_ACCT_EMAIL)"
   ]
  },
  {
   "cell_type": "code",
   "execution_count": 6,
   "id": "213dbaee",
   "metadata": {},
   "outputs": [
    {
     "name": "stdout",
     "output_type": "stream",
     "text": [
      "Updated IAM policy for project [cool-automata-386721].\n",
      "Updated IAM policy for project [cool-automata-386721].\n"
     ]
    }
   ],
   "source": [
    "import time\n",
    "\n",
    "!gcloud projects add-iam-policy-binding --format=none $PROJECT_ID --member=serviceAccount:$SERVICE_ACCT_EMAIL --role='roles/storage.objectViewer'\n",
    "!gcloud projects add-iam-policy-binding --format=none $PROJECT_ID --member=serviceAccount:$SERVICE_ACCT_EMAIL --role='roles/aiplatform.user'\n",
    "\n",
    "# Wait ~60 seconds, to give IAM updates time to propagate. Otherwise, subsequent cells may fail.\n",
    "time.sleep(60)"
   ]
  },
  {
   "cell_type": "markdown",
   "id": "af1f1f79",
   "metadata": {},
   "source": [
    "## Step 1: Create Dataset and the table\n"
   ]
  },
  {
   "cell_type": "markdown",
   "id": "1ec72d10",
   "metadata": {},
   "source": [
    "We will be creating an exploration dataset, where the raw data will be an object table sec_filings,\n",
    "and the parsed data will go into contracts table with the schema below.  - Initial Idea\n",
    "\n"
   ]
  },
  {
   "cell_type": "code",
   "execution_count": 20,
   "id": "5841debb",
   "metadata": {},
   "outputs": [
    {
     "name": "stdout",
     "output_type": "stream",
     "text": [
      "✅ Table cool-automata-386721.exploration.contracts already exists\n"
     ]
    }
   ],
   "source": [
    "dataset_id = f\"{PROJECT_ID}.{DATASET_NAME}\"\n",
    "\n",
    "try:\n",
    "    dataset = client.get_dataset(dataset_id)\n",
    "except NotFound:\n",
    "    dataset = bigquery.Dataset(dataset_id)\n",
    "    dataset.location = \"US\"\n",
    "    dataset = client.create_dataset(dataset, timeout=30)\n",
    "\n",
    "# Create the contracts table with your desired schema\n",
    "table_id = f\"{dataset_id}.contracts\"\n",
    "\n",
    "schema = [\n",
    "    # Filing-Level Context (Denormalized onto each contract)\n",
    "    # This data is repeated for each contract from the same filing, denormalized for bigQuery.\n",
    "\n",
    "    bigquery.SchemaField(\"contract_id\", \"STRING\"),        # Your unique ID for this specific contract \n",
    "    bigquery.SchemaField(\"company_name\", \"STRING\"),       # Company name\n",
    "    bigquery.SchemaField(\"form_type\", \"STRING\"),          # e.g., '10-K', '8-K'\n",
    "    bigquery.SchemaField(\"filing_date\", \"DATE\"),          # Filing date\n",
    "    bigquery.SchemaField(\"state_incorp\", \"STRING\"),       # Company's state of incorporation\n",
    "\n",
    "    bigquery.SchemaField(\"contract_type\", \"STRING\"),      # 'Employment', 'Lease', 'Purchase/M&A', etc.\n",
    "    bigquery.SchemaField(\"contract_date\", \"DATE\"),        # The execution date of the contract\n",
    "    bigquery.SchemaField(\"governing_law_state\", \"STRING\"),# e.g., 'DE', 'CA', crucial for legal queries\n",
    "    bigquery.SchemaField(\"contract_summary\", \"STRING\"),   # AI-generated summary of the contract's purpose and key details, like parties, purpose etc.\n",
    "    bigquery.SchemaField(\"numeric_value\", \"NUMERIC\"),  # Value of the contract/agreement\n",
    "\n",
    "    bigquery.SchemaField(\"parties\", \"RECORD\", mode=\"REPEATED\", fields=[\n",
    "        bigquery.SchemaField(\"name\", \"STRING\"),\n",
    "    ]),\n",
    "    bigquery.SchemaField(\"clauses\", \"RECORD\", mode=\"REPEATED\", fields=[\n",
    "        bigquery.SchemaField(\"clause_type\", \"STRING\"),    # e.g., 'Change of Control', 'Auto-Renewal'\n",
    "    ]),\n",
    "\n",
    "    bigquery.SchemaField(\"file_path\", \"STRING\"), #GCS file path\n",
    "]\n",
    "\n",
    "try:\n",
    "    table = client.get_table(table_id)\n",
    "    print(f\"✅ Table {table_id} already exists\")\n",
    "except NotFound:\n",
    "    table = bigquery.Table(table_id, schema=schema)\n",
    "    table = client.create_table(table)\n",
    "    print(f\"✅ Created table {table_id}\")\n"
   ]
  },
  {
   "cell_type": "markdown",
   "id": "0527ae0d",
   "metadata": {},
   "source": [
    "## Step 2: Create Object Table for GCS Objects\n",
    "\n",
    "This creates an \"object table\" that gives us ObjectRef access to files in GCS.\n"
   ]
  },
  {
   "cell_type": "code",
   "execution_count": 3,
   "id": "06d8215e",
   "metadata": {},
   "outputs": [
    {
     "name": "stderr",
     "output_type": "stream",
     "text": [
      "/Users/Meher.Gajula/Desktop/Work/playground/BQ Comp 2025/.venv/lib/python3.13/site-packages/google/cloud/bigquery/__init__.py:237: FutureWarning: %load_ext google.cloud.bigquery is deprecated. Install bigquery-magics package and use `%load_ext bigquery_magics`, instead.\n",
      "  warnings.warn(\n"
     ]
    }
   ],
   "source": [
    "%load_ext google.cloud.bigquery"
   ]
  },
  {
   "cell_type": "code",
   "execution_count": 4,
   "id": "a439a890",
   "metadata": {},
   "outputs": [],
   "source": [
    "# !uv pip install tqdm"
   ]
  },
  {
   "cell_type": "markdown",
   "id": "f0254b6c",
   "metadata": {},
   "source": [
    "I am trying to make an object table which just the 2020 Q1 Documents, this is about 11k documents to explore AI.GENERATE_TEXT AND AI.GENERATE_TABLE"
   ]
  },
  {
   "cell_type": "code",
   "execution_count": 7,
   "id": "5f5e8f9e",
   "metadata": {},
   "outputs": [
    {
     "name": "stdout",
     "output_type": "stream",
     "text": [
      "Found 11311 files in 2020/Q1/\n",
      "Sample files:\n",
      "  📄 2020/Q1/1000209..000119312520022930..d879007dex101.htm (9,778 bytes)\n",
      "  📄 2020/Q1/1000209..000156459020014310..mfin-ex1042_497.htm (15,820 bytes)\n",
      "  📄 2020/Q1/1000228..000100022820000018..d848607dex1018.htm (4,884 bytes)\n",
      "  📄 2020/Q1/1000228..000100022820000018..d848607dex1032.htm (4,695 bytes)\n",
      "  📄 2020/Q1/1000229..000156459020008962..clb-ex101_6.htm (9,936 bytes)\n"
     ]
    }
   ],
   "source": [
    "object_table_id = f\"exploration.sec_filings\"\n",
    "from google.cloud import storage\n",
    "\n",
    "storage_client = storage.Client()\n",
    "bucket = storage_client.bucket(GCS_BUCKET_NAME)\n",
    "\n",
    "# List files in the production_contracts directory\n",
    "blobs = list(bucket.list_blobs(prefix=\"2020/Q1/\"))\n",
    "print(f\"Found {len(blobs)} files in 2020/Q1/\")\n",
    "\n",
    "if blobs:\n",
    "    print(\"Sample files:\")\n",
    "    for blob in blobs[:5]:\n",
    "        print(f\"  📄 {blob.name} ({blob.size:,} bytes)\")"
   ]
  },
  {
   "cell_type": "markdown",
   "id": "9ba67827",
   "metadata": {},
   "source": [
    "### Create the Object table"
   ]
  },
  {
   "cell_type": "code",
   "execution_count": 5,
   "id": "a3d52ffa",
   "metadata": {},
   "outputs": [
    {
     "data": {
      "application/vnd.jupyter.widget-view+json": {
       "model_id": "347a6b137ea04f0e927c201e34199b7d",
       "version_major": 2,
       "version_minor": 0
      },
      "text/plain": [
       "Query is running:   0%|          |"
      ]
     },
     "metadata": {},
     "output_type": "display_data"
    },
    {
     "data": {
      "text/html": [
       "<div>\n",
       "<style scoped>\n",
       "    .dataframe tbody tr th:only-of-type {\n",
       "        vertical-align: middle;\n",
       "    }\n",
       "\n",
       "    .dataframe tbody tr th {\n",
       "        vertical-align: top;\n",
       "    }\n",
       "\n",
       "    .dataframe thead th {\n",
       "        text-align: right;\n",
       "    }\n",
       "</style>\n",
       "<table border=\"1\" class=\"dataframe\">\n",
       "  <thead>\n",
       "    <tr style=\"text-align: right;\">\n",
       "      <th></th>\n",
       "    </tr>\n",
       "  </thead>\n",
       "  <tbody>\n",
       "  </tbody>\n",
       "</table>\n",
       "</div>"
      ],
      "text/plain": [
       "Empty DataFrame\n",
       "Columns: []\n",
       "Index: []"
      ]
     },
     "execution_count": 5,
     "metadata": {},
     "output_type": "execute_result"
    }
   ],
   "source": [
    "%%bigquery --project {PROJECT_ID}\n",
    "CREATE OR REPLACE EXTERNAL TABLE `exploration.sec_filings`\n",
    "WITH CONNECTION `us.contracts_ai_connection`\n",
    "OPTIONS (\n",
    "  object_metadata = 'SIMPLE',\n",
    "  uris = ['gs://contracts-mcc/2020/Q1/*']\n",
    ")"
   ]
  },
  {
   "cell_type": "code",
   "execution_count": 8,
   "id": "d438a108",
   "metadata": {},
   "outputs": [
    {
     "name": "stdout",
     "output_type": "stream",
     "text": [
      "Checking available sec filings...\n"
     ]
    },
    {
     "name": "stderr",
     "output_type": "stream",
     "text": [
      "E0000 00:00:1758475320.710022 25380281 alts_credentials.cc:93] ALTS creds ignored. Not running on GCP and untrusted ALTS is not enabled.\n"
     ]
    },
    {
     "name": "stdout",
     "output_type": "stream",
     "text": [
      "✅ Found f0_    11311\n",
      "Name: 0, dtype: Int64 documents\n"
     ]
    }
   ],
   "source": [
    "# Let's check what files we have access to\n",
    "query = f\"\"\"\n",
    "SELECT count (*)\n",
    "FROM `{object_table_id}`\n",
    "\"\"\"\n",
    "\n",
    "try:\n",
    "    print(\"Checking available sec filings...\")\n",
    "    count = client.query(query).to_dataframe()\n",
    "    print(f\"✅ Found {count.iloc[0]} documents\")\n",
    "except Exception as e:\n",
    "    print(f\"Error querying documents: {e}\")\n"
   ]
  },
  {
   "cell_type": "markdown",
   "id": "b035bd9a",
   "metadata": {},
   "source": [
    "## Step 3: AI.GENERATE and AI.GENERATE_TABLE\n",
    "\n",
    "Now we'll use BigQuery's AI functions to extract structured information from the contract documents. We'll start with a small sample.\n"
   ]
  },
  {
   "cell_type": "markdown",
   "id": "03da1d92",
   "metadata": {},
   "source": [
    "### Create a Gemini Model for Bigquery"
   ]
  },
  {
   "cell_type": "code",
   "execution_count": 10,
   "id": "33226579",
   "metadata": {},
   "outputs": [],
   "source": [
    "# Create a remote model for Gemini (required for AI functions)\n",
    "model_id = f\"exploration.gemini\"\n",
    "\n",
    "create_model_sql = f\"\"\"\n",
    "CREATE OR REPLACE MODEL `{model_id}`\n",
    "REMOTE WITH CONNECTION `us.contracts_ai_connection`\n",
    "OPTIONS (ENDPOINT = 'gemini-2.0-flash')\n",
    "\"\"\"\n",
    "\n",
    "try:\n",
    "    query_job = client.query(create_model_sql)\n",
    "    query_job.result()\n",
    "except Exception as e:\n",
    "    print(f\"Error creating model: {e}\")\n"
   ]
  },
  {
   "cell_type": "markdown",
   "id": "1e02cd70",
   "metadata": {},
   "source": [
    "### Parsing with AI.GENERATE "
   ]
  },
  {
   "cell_type": "code",
   "execution_count": 11,
   "id": "61e1331b",
   "metadata": {},
   "outputs": [
    {
     "name": "stderr",
     "output_type": "stream",
     "text": [
      "E0000 00:00:1758475351.673064 25380281 alts_credentials.cc:93] ALTS creds ignored. Not running on GCP and untrusted ALTS is not enabled.\n"
     ]
    },
    {
     "data": {
      "text/html": [
       "<div>\n",
       "<style scoped>\n",
       "    .dataframe tbody tr th:only-of-type {\n",
       "        vertical-align: middle;\n",
       "    }\n",
       "\n",
       "    .dataframe tbody tr th {\n",
       "        vertical-align: top;\n",
       "    }\n",
       "\n",
       "    .dataframe thead th {\n",
       "        text-align: right;\n",
       "    }\n",
       "</style>\n",
       "<table border=\"1\" class=\"dataframe\">\n",
       "  <thead>\n",
       "    <tr style=\"text-align: right;\">\n",
       "      <th></th>\n",
       "      <th>uri</th>\n",
       "      <th>parsed_json</th>\n",
       "    </tr>\n",
       "  </thead>\n",
       "  <tbody>\n",
       "    <tr>\n",
       "      <th>0</th>\n",
       "      <td>gs://contracts-mcc/2020/Q1/1000228..0001000228...</td>\n",
       "      <td>```json\\n{\"company_name\": \"HENRY SCHEIN, INC.\"...</td>\n",
       "    </tr>\n",
       "    <tr>\n",
       "      <th>1</th>\n",
       "      <td>gs://contracts-mcc/2020/Q1/1000209..0001193125...</td>\n",
       "      <td>```json\\n{\"company_name\": \"FRESHSTART VENTURE ...</td>\n",
       "    </tr>\n",
       "    <tr>\n",
       "      <th>2</th>\n",
       "      <td>gs://contracts-mcc/2020/Q1/1000209..0001564590...</td>\n",
       "      <td>```json\\n{\"company_name\": \"FRESHSTART VENTURE ...</td>\n",
       "    </tr>\n",
       "  </tbody>\n",
       "</table>\n",
       "</div>"
      ],
      "text/plain": [
       "                                                 uri  \\\n",
       "0  gs://contracts-mcc/2020/Q1/1000228..0001000228...   \n",
       "1  gs://contracts-mcc/2020/Q1/1000209..0001193125...   \n",
       "2  gs://contracts-mcc/2020/Q1/1000209..0001564590...   \n",
       "\n",
       "                                         parsed_json  \n",
       "0  ```json\\n{\"company_name\": \"HENRY SCHEIN, INC.\"...  \n",
       "1  ```json\\n{\"company_name\": \"FRESHSTART VENTURE ...  \n",
       "2  ```json\\n{\"company_name\": \"FRESHSTART VENTURE ...  "
      ]
     },
     "execution_count": 11,
     "metadata": {},
     "output_type": "execute_result"
    }
   ],
   "source": [
    "# FIXED: Enhanced AI parsing with correct AI.GENERATE syntax\n",
    "enhanced_test_query = f\"\"\"\n",
    "SELECT\n",
    "  uri,\n",
    "  AI.GENERATE(\n",
    "    (\n",
    "      'You are an expert SEC filing analyst. Analyze this document and EXTRACT the following information in VALID JSON format only:' ||\n",
    "      '{{\"company_name\": \"Full legal company name or null if not found\",' ||\n",
    "      '\"document_type\": \"SEC form type (10-K, 10-Q, 8-K, S-1, etc.) or contract type\",' ||\n",
    "      '\"filing_info\": {{\"cik\": \"CIK number or null\", \"form_type\": \"form type\", \"filing_date\": \"YYYY-MM-DD format or null\"}},' ||\n",
    "      '\"contract_details\": {{\"contract_type\": \"type of agreement/contract or null\", \"execution_date\": \"YYYY-MM-DD format or null\"}},' ||\n",
    "      '\"parties\": [\"array of party names involved or empty array\"],' ||\n",
    "      '\"key_clauses\": [\"array of important clause types mentioned or empty array\"]}}' ||\n",
    "      'IMPORTANT: Return ONLY valid JSON, no markdown, no explanations.',\n",
    "      ref\n",
    "    ),\n",
    "    connection_id => 'us.contracts_ai_connection',\n",
    "    endpoint => 'gemini-2.0-flash'\n",
    "  ).result as parsed_json\n",
    "FROM `{object_table_id}`\n",
    "LIMIT 3\n",
    "\"\"\"\n",
    "\n",
    "\n",
    "df = client.query(enhanced_test_query).to_dataframe()\n",
    "df.head()"
   ]
  },
  {
   "cell_type": "markdown",
   "id": "80d83839",
   "metadata": {},
   "source": [
    "#### Better Prompting with Langchain and Pydantic schema\n",
    "\n",
    "\n",
    "I want to extract details, and to better add context, I think adding descriptions and types through pydantic can be better."
   ]
  },
  {
   "cell_type": "code",
   "execution_count": null,
   "id": "25266619",
   "metadata": {},
   "outputs": [],
   "source": [
    "# !uv pip install langchain pydantic"
   ]
  },
  {
   "cell_type": "code",
   "execution_count": 12,
   "id": "40893e86",
   "metadata": {},
   "outputs": [
    {
     "name": "stdout",
     "output_type": "stream",
     "text": [
      "You are an expert SEC filing and contract analyst. Extract information from this document.\n",
      "\n",
      "Document Type: contract\n",
      "\n",
      "The output should be formatted as a JSON instance that conforms to the JSON schema below.\n",
      "\n",
      "As an example, for the schema {\"properties\": {\"foo\": {\"title\": \"Foo\", \"description\": \"a list of strings\", \"type\": \"array\", \"items\": {\"type\": \"string\"}}}, \"required\": [\"foo\"]}\n",
      "the object {\"foo\": [\"bar\", \"baz\"]} is a well-formatted instance of the schema. The object {\"properties\": {\"foo\": [\"bar\", \"baz\"]}} is not well-formatted.\n",
      "\n",
      "Here is the output schema:\n",
      "```\n",
      "{\"properties\": {\"company_name\": {\"anyOf\": [{\"type\": \"string\"}, {\"type\": \"null\"}], \"description\": \"Company name - most queried field\", \"title\": \"Company Name\"}, \"form_type\": {\"anyOf\": [{\"type\": \"string\"}, {\"type\": \"null\"}], \"description\": \"SEC form type like '10-K', '8-K'\", \"title\": \"Form Type\"}, \"filing_date\": {\"anyOf\": [{\"type\": \"string\"}, {\"type\": \"null\"}], \"description\": \"Filing date in YYYY-MM-DD format\", \"title\": \"Filing Date\"}, \"state_incorp\": {\"anyOf\": [{\"type\": \"string\"}, {\"type\": \"null\"}], \"description\": \"Company's state of incorporation\", \"title\": \"State Incorp\"}, \"contract_type\": {\"anyOf\": [{\"type\": \"string\"}, {\"type\": \"null\"}], \"description\": \"Contract type: 'Employment', 'Lease', 'Purchase/M&A', etc.\", \"title\": \"Contract Type\"}, \"contract_date\": {\"anyOf\": [{\"type\": \"string\"}, {\"type\": \"null\"}], \"description\": \"Contract execution date in YYYY-MM-DD format\", \"title\": \"Contract Date\"}, \"governing_law_state\": {\"anyOf\": [{\"type\": \"string\"}, {\"type\": \"null\"}], \"description\": \"Governing law state like 'DE', 'CA'\", \"title\": \"Governing Law State\"}, \"contract_summary\": {\"anyOf\": [{\"type\": \"string\"}, {\"type\": \"null\"}], \"description\": \"AI-generated summary of contract's purpose\", \"title\": \"Contract Summary\"}, \"numeric_value\": {\"anyOf\": [{\"type\": \"number\"}, {\"type\": \"null\"}], \"description\": \"Value of the contract/agreement\", \"title\": \"Numeric Value\"}, \"parties\": {\"default\": [], \"description\": \"List of party names involved\", \"items\": {\"type\": \"string\"}, \"title\": \"Parties\", \"type\": \"array\"}, \"clauses\": {\"default\": [], \"description\": \"List of clause types like 'Change of Control', 'Auto-Renewal'\", \"items\": {\"type\": \"string\"}, \"title\": \"Clauses\", \"type\": \"array\"}}, \"required\": [\"company_name\", \"form_type\", \"filing_date\", \"state_incorp\", \"contract_type\", \"contract_date\", \"governing_law_state\", \"contract_summary\", \"numeric_value\"]}\n",
      "```\n",
      "\n",
      "CRITICAL INSTRUCTIONS:\n",
      "- Extract ALL available information, even if some fields are null\n",
      "- For dates, use YYYY-MM-DD format only\n",
      "- For numeric_value, extract any dollar amounts mentioned\n",
      "- For parties, include all company/individual names involved\n",
      "- For clauses, identify key clause types like termination, renewal, change of control, etc.\n",
      "- If this is an SEC filing containing multiple contracts, focus on the most significant one\n",
      "- Use null for fields not found or not applicable\n",
      "\n",
      "Return ONLY valid JSON, no markdown, no explanations.\n"
     ]
    }
   ],
   "source": [
    "from langchain.prompts import PromptTemplate\n",
    "from langchain_core.output_parsers import JsonOutputParser\n",
    "from pydantic import BaseModel, Field\n",
    "from typing import List, Optional\n",
    "\n",
    "# Single denormalized Pydantic model matching your BigQuery schema\n",
    "class Contract(BaseModel):\n",
    "    company_name: Optional[str] = Field(description=\"Company name - most queried field\")\n",
    "    form_type: Optional[str] = Field(description=\"SEC form type like '10-K', '8-K'\")\n",
    "    filing_date: Optional[str] = Field(description=\"Filing date in YYYY-MM-DD format\")\n",
    "    state_incorp: Optional[str] = Field(description=\"Company's state of incorporation\")\n",
    "    \n",
    "    # Contract-Level Fields\n",
    "    contract_type: Optional[str] = Field(description=\"Contract type: 'Employment', 'Lease', 'Purchase/M&A', etc.\")\n",
    "    contract_date: Optional[str] = Field(description=\"Contract execution date in YYYY-MM-DD format\")\n",
    "    governing_law_state: Optional[str] = Field(description=\"Governing law state like 'DE', 'CA'\")\n",
    "    contract_summary: Optional[str] = Field(description=\"AI-generated summary of contract's purpose\")\n",
    "    numeric_value: Optional[float] = Field(description=\"Value of the contract/agreement\")\n",
    "    \n",
    "    # Flattened Arrays (BigQuery will handle as REPEATED fields)\n",
    "    parties: List[str] = Field(description=\"List of party names involved\", default=[])\n",
    "    clauses: List[str] = Field(description=\"List of clause types like 'Change of Control', 'Auto-Renewal'\", default=[])\n",
    "\n",
    "# Setup the parser and prompt template\n",
    "json_parser = JsonOutputParser(pydantic_object=Contract)\n",
    "format_instructions = json_parser.get_format_instructions()\n",
    "\n",
    "extraction_prompt_template = PromptTemplate(\n",
    "    input_variables=[\"doc_type\", \"format_instructions\"],\n",
    "    template=\"\"\"You are an expert SEC filing and contract analyst. Extract information from this document.\n",
    "\n",
    "Document Type: {doc_type}\n",
    "\n",
    "{format_instructions}\n",
    "\n",
    "CRITICAL INSTRUCTIONS:\n",
    "- Extract ALL available information, even if some fields are null\n",
    "- For dates, use YYYY-MM-DD format only\n",
    "- For numeric_value, extract any dollar amounts mentioned\n",
    "- For parties, include all company/individual names involved\n",
    "- For clauses, identify key clause types like termination, renewal, change of control, etc.\n",
    "- If this is an SEC filing containing multiple contracts, focus on the most significant one\n",
    "- Use null for fields not found or not applicable\n",
    "\n",
    "Return ONLY valid JSON, no markdown, no explanations.\"\"\"\n",
    ")\n",
    "\n",
    "extraction_prompt = extraction_prompt_template.format(doc_type=\"contract\", format_instructions=format_instructions)\n",
    "print(extraction_prompt)\n"
   ]
  },
  {
   "cell_type": "markdown",
   "id": "efcefae3",
   "metadata": {},
   "source": [
    "Although, I have a better parsing prompt, I had trouble adding it in the biquery sql scripts and functions, and maybe I should tryout through python in the future. "
   ]
  },
  {
   "cell_type": "markdown",
   "id": "dbeed428",
   "metadata": {},
   "source": [
    "### Using AI.GENERATE_TABLE to parse the documents"
   ]
  },
  {
   "cell_type": "code",
   "execution_count": 13,
   "id": "1840204b",
   "metadata": {},
   "outputs": [
    {
     "data": {
      "application/vnd.jupyter.widget-view+json": {
       "model_id": "8cda06e0bf5c44a1b6c02547611bb537",
       "version_major": 2,
       "version_minor": 0
      },
      "text/plain": [
       "Query is running:   0%|          |"
      ]
     },
     "metadata": {},
     "output_type": "display_data"
    },
    {
     "data": {
      "application/vnd.jupyter.widget-view+json": {
       "model_id": "abeeac50103b4ed09645231bf6656e13",
       "version_major": 2,
       "version_minor": 0
      },
      "text/plain": [
       "Downloading:   0%|          |"
      ]
     },
     "metadata": {},
     "output_type": "display_data"
    },
    {
     "data": {
      "text/html": [
       "<div>\n",
       "<style scoped>\n",
       "    .dataframe tbody tr th:only-of-type {\n",
       "        vertical-align: middle;\n",
       "    }\n",
       "\n",
       "    .dataframe tbody tr th {\n",
       "        vertical-align: top;\n",
       "    }\n",
       "\n",
       "    .dataframe thead th {\n",
       "        text-align: right;\n",
       "    }\n",
       "</style>\n",
       "<table border=\"1\" class=\"dataframe\">\n",
       "  <thead>\n",
       "    <tr style=\"text-align: right;\">\n",
       "      <th></th>\n",
       "      <th>uri</th>\n",
       "      <th>company_name</th>\n",
       "      <th>form_type</th>\n",
       "      <th>filing_date</th>\n",
       "      <th>state_incorp</th>\n",
       "      <th>contract_type</th>\n",
       "      <th>contract_date</th>\n",
       "      <th>governing_law_state</th>\n",
       "      <th>parties</th>\n",
       "      <th>clauses</th>\n",
       "      <th>contract_summary</th>\n",
       "    </tr>\n",
       "  </thead>\n",
       "  <tbody>\n",
       "    <tr>\n",
       "      <th>0</th>\n",
       "      <td>gs://contracts-mcc/2020/Q1/1000229..0001564590...</td>\n",
       "      <td>Core Laboratories N.V.</td>\n",
       "      <td>EX-10.1</td>\n",
       "      <td>2020-03-01</td>\n",
       "      <td>null</td>\n",
       "      <td>Amendment to Employment Agreement</td>\n",
       "      <td>None</td>\n",
       "      <td>null</td>\n",
       "      <td>[Core Laboratories N.V., Lawrence V. Bruno]</td>\n",
       "      <td>[]</td>\n",
       "      <td>None</td>\n",
       "    </tr>\n",
       "    <tr>\n",
       "      <th>1</th>\n",
       "      <td>gs://contracts-mcc/2020/Q1/1000228..0001000228...</td>\n",
       "      <td>HENRY SCHEIN, INC.</td>\n",
       "      <td>EX-10.18</td>\n",
       "      <td>2018-12-20</td>\n",
       "      <td>null\",\\n  \"clauses\": [],\\n  \"contract_summary\"...</td>\n",
       "      <td>Amendment</td>\n",
       "      <td>None</td>\n",
       "      <td>New York</td>\n",
       "      <td>[Henry Schein, Inc., Compensation Committee]</td>\n",
       "      <td>[]</td>\n",
       "      <td>None</td>\n",
       "    </tr>\n",
       "    <tr>\n",
       "      <th>2</th>\n",
       "      <td>gs://contracts-mcc/2020/Q1/1000209..0001193125...</td>\n",
       "      <td>FRESHSTART VENTURE CAPITAL CORPORATION</td>\n",
       "      <td>EX-10.1</td>\n",
       "      <td>2020-01-30</td>\n",
       "      <td>NY, New York (principal office location, not n...</td>\n",
       "      <td>Amendment to Loan Agreement</td>\n",
       "      <td>None</td>\n",
       "      <td>New York</td>\n",
       "      <td>[U.S. SMALL BUSINESS ADMINISTRATION, FRESHSTAR...</td>\n",
       "      <td>[]</td>\n",
       "      <td>None</td>\n",
       "    </tr>\n",
       "    <tr>\n",
       "      <th>3</th>\n",
       "      <td>gs://contracts-mcc/2020/Q1/1000228..0001000228...</td>\n",
       "      <td>HENRY SCHEIN, INC.</td>\n",
       "      <td>EX-10.32</td>\n",
       "      <td>2018-12-20</td>\n",
       "      <td>null\",\\n  \"governing_law_state\": \"null\",\\n  \"p...</td>\n",
       "      <td>Amendment to Deferred Compensation Plan</td>\n",
       "      <td>None</td>\n",
       "      <td>None</td>\n",
       "      <td>[]</td>\n",
       "      <td>[]</td>\n",
       "      <td>None</td>\n",
       "    </tr>\n",
       "    <tr>\n",
       "      <th>4</th>\n",
       "      <td>gs://contracts-mcc/2020/Q1/1000209..0001564590...</td>\n",
       "      <td>FRESHSTART VENTURE CAPITAL CORPORATION</td>\n",
       "      <td>EX-10.42</td>\n",
       "      <td>2020-03-27</td>\n",
       "      <td>NY, principal office located at 437 Madison Av...</td>\n",
       "      <td>Amendment to Loan Agreement</td>\n",
       "      <td>None</td>\n",
       "      <td>New York</td>\n",
       "      <td>[U.S. SMALL BUSINESS ADMINISTRATION, FRESHSTAR...</td>\n",
       "      <td>[]</td>\n",
       "      <td>None</td>\n",
       "    </tr>\n",
       "  </tbody>\n",
       "</table>\n",
       "</div>"
      ],
      "text/plain": [
       "                                                 uri  \\\n",
       "0  gs://contracts-mcc/2020/Q1/1000229..0001564590...   \n",
       "1  gs://contracts-mcc/2020/Q1/1000228..0001000228...   \n",
       "2  gs://contracts-mcc/2020/Q1/1000209..0001193125...   \n",
       "3  gs://contracts-mcc/2020/Q1/1000228..0001000228...   \n",
       "4  gs://contracts-mcc/2020/Q1/1000209..0001564590...   \n",
       "\n",
       "                             company_name form_type filing_date  \\\n",
       "0                  Core Laboratories N.V.   EX-10.1  2020-03-01   \n",
       "1                      HENRY SCHEIN, INC.  EX-10.18  2018-12-20   \n",
       "2  FRESHSTART VENTURE CAPITAL CORPORATION   EX-10.1  2020-01-30   \n",
       "3                      HENRY SCHEIN, INC.  EX-10.32  2018-12-20   \n",
       "4  FRESHSTART VENTURE CAPITAL CORPORATION  EX-10.42  2020-03-27   \n",
       "\n",
       "                                        state_incorp  \\\n",
       "0                                               null   \n",
       "1  null\",\\n  \"clauses\": [],\\n  \"contract_summary\"...   \n",
       "2  NY, New York (principal office location, not n...   \n",
       "3  null\",\\n  \"governing_law_state\": \"null\",\\n  \"p...   \n",
       "4  NY, principal office located at 437 Madison Av...   \n",
       "\n",
       "                             contract_type contract_date governing_law_state  \\\n",
       "0        Amendment to Employment Agreement          None                null   \n",
       "1                                Amendment          None            New York   \n",
       "2              Amendment to Loan Agreement          None            New York   \n",
       "3  Amendment to Deferred Compensation Plan          None                None   \n",
       "4              Amendment to Loan Agreement          None            New York   \n",
       "\n",
       "                                             parties clauses contract_summary  \n",
       "0        [Core Laboratories N.V., Lawrence V. Bruno]      []             None  \n",
       "1       [Henry Schein, Inc., Compensation Committee]      []             None  \n",
       "2  [U.S. SMALL BUSINESS ADMINISTRATION, FRESHSTAR...      []             None  \n",
       "3                                                 []      []             None  \n",
       "4  [U.S. SMALL BUSINESS ADMINISTRATION, FRESHSTAR...      []             None  "
      ]
     },
     "execution_count": 13,
     "metadata": {},
     "output_type": "execute_result"
    }
   ],
   "source": [
    "%%bigquery --project {PROJECT_ID}\n",
    "\n",
    "SELECT\n",
    "uri,\n",
    "company_name,\n",
    "form_type,\n",
    "filing_date,\n",
    "state_incorp,\n",
    "contract_type,\n",
    "contract_date,\n",
    "governing_law_state,\n",
    "parties,\n",
    "clauses,\n",
    "contract_summary\n",
    "\n",
    "FROM AI.GENERATE_TABLE(\n",
    "  MODEL `exploration.gemini`,\n",
    "  (\n",
    "    SELECT (\n",
    "      'You are an expert SEC filing and contract analyst. Analyze this document and EXTRACT the following information in VALID JSON format only:' ||\n",
    "      '{{\"company_name\": \"Full legal company name or null if not found\",' ||\n",
    "      '\"document_type\": \"SEC form type (10-K, 10-Q, 8-K, S-1, etc.) or contract type\",' ||\n",
    "      '\"filing_info\": {{\"cik\": \"CIK number or null\", \"form_type\": \"form type\", \"filing_date\": \"YYYY-MM-DD format or null\"}},' ||\n",
    "      ' \"state_incorp\": \"State of incorporation or null\",' ||\n",
    "      '\"contract_details\": {{\"contract_type\": \"type of agreement/contract or null\", \"execution_date\": \"YYYY-MM-DD format or null\"}},' ||\n",
    "      '\"governing_law_state\": \"State of governing law or null\",' ||\n",
    "      '\"parties\": [\"array of party names involved or empty array\"],' ||\n",
    "      '\"clauses\": [\"array of important clause types mentioned or empty array\"]}}' ||\n",
    "      ' \"contract_summary\": \"A summary of what this contract means, include key parties, and the type of agreement\",' ||\n",
    "      'IMPORTANT: Return ONLY valid JSON, no markdown, no explanations.',\n",
    "      ref\n",
    "    ) AS prompt,\n",
    "    uri,\n",
    "    FROM `exploration.sec_filings`\n",
    "  ),\n",
    "  STRUCT(\n",
    "     \"company_name STRING, form_type STRING, filing_date STRING, state_incorp STRING, contract_type STRING, contract_date STRING, governing_law_state STRING, parties ARRAY<STRING>, clauses ARRAY<STRING>, contract_summary STRING\" AS output_schema\n",
    "  )\n",
    ")\n",
    "limit 5"
   ]
  },
  {
   "cell_type": "markdown",
   "id": "e0395868",
   "metadata": {},
   "source": [
    "## Feedback: \n",
    "\n",
    "- Having a stop job feature in bigquery UI could help, I tried to run the GENERATE_TABLE on a massive table, and I am not sure of the ongoing progress for that job that's running and I wanted to have some control. So I stopped it using a python function. \n",
    "\n",
    "- Autocomplete features in bigquery editor would have helped me save time, as I was just missing a ' , ' in output schema. \n",
    "\n",
    "- Seeing the token processed info in the bigquery editor would be great, I read the documentation where output_schema returns the full_response, but having it in BQ UI will be great. \n"
   ]
  },
  {
   "cell_type": "code",
   "execution_count": 14,
   "id": "95ae3831",
   "metadata": {},
   "outputs": [
    {
     "name": "stdout",
     "output_type": "stream",
     "text": [
      "bquxjob_3824d4ce_1996d68cbd6 cancelled\n"
     ]
    }
   ],
   "source": [
    "from google.cloud import bigquery\n",
    "\n",
    "\n",
    "def cancel_job(\n",
    "    client: bigquery.Client,\n",
    "    job_id: str = \"bquxjob_3824d4ce_1996d68cbd6\",\n",
    ") -> None:\n",
    "    job = client.cancel_job(job_id)\n",
    "    print(f\"{job.job_id} cancelled\")\n",
    "\n",
    "cancel_job(client)"
   ]
  },
  {
   "cell_type": "markdown",
   "id": "24021c82",
   "metadata": {},
   "source": [
    "## Cleanup commands\n",
    "\n",
    "These commands will clean up the resources created in this notebook\n"
   ]
  },
  {
   "cell_type": "code",
   "execution_count": null,
   "id": "6be26349",
   "metadata": {},
   "outputs": [],
   "source": [
    "# !bq rm --table -f exploration.contracts\n",
    "# !bq rm --table -f exploration.sec_filings"
   ]
  },
  {
   "cell_type": "code",
   "execution_count": null,
   "id": "17d84e68",
   "metadata": {},
   "outputs": [],
   "source": [
    "# !bq rm --model -f exploration.gemini"
   ]
  },
  {
   "cell_type": "code",
   "execution_count": null,
   "id": "86507969",
   "metadata": {},
   "outputs": [],
   "source": [
    "# !bq rm --connection --project_id=$PROJECT_ID --location=us contracts_ai_connection"
   ]
  },
  {
   "cell_type": "code",
   "execution_count": null,
   "id": "802c8504",
   "metadata": {},
   "outputs": [],
   "source": []
  }
 ],
 "metadata": {
  "kernelspec": {
   "display_name": ".venv",
   "language": "python",
   "name": "python3"
  },
  "language_info": {
   "codemirror_mode": {
    "name": "ipython",
    "version": 3
   },
   "file_extension": ".py",
   "mimetype": "text/x-python",
   "name": "python",
   "nbconvert_exporter": "python",
   "pygments_lexer": "ipython3",
   "version": "3.13.2"
  }
 },
 "nbformat": 4,
 "nbformat_minor": 5
}
